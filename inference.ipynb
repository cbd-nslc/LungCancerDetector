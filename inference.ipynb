{
 "cells": [
  {
   "cell_type": "code",
   "execution_count": 1,
   "metadata": {},
   "outputs": [
    {
     "name": "stdout",
     "output_type": "stream",
     "text": [
      "Collecting pip\n",
      "  Downloading pip-20.1.1-py2.py3-none-any.whl (1.5 MB)\n",
      "\u001b[K     |████████████████████████████████| 1.5 MB 1.1 MB/s eta 0:00:01\n",
      "\u001b[?25hInstalling collected packages: pip\n",
      "  Attempting uninstall: pip\n",
      "    Found existing installation: pip 20.0.2\n",
      "    Uninstalling pip-20.0.2:\n",
      "      Successfully uninstalled pip-20.0.2\n",
      "Successfully installed pip-20.1.1\n"
     ]
    }
   ],
   "source": [
    "!pip install --upgrade pip"
   ]
  },
  {
   "cell_type": "code",
   "execution_count": 2,
   "metadata": {},
   "outputs": [
    {
     "name": "stdout",
     "output_type": "stream",
     "text": [
      "Collecting pydicom\n",
      "  Downloading pydicom-2.0.0-py3-none-any.whl (35.4 MB)\n",
      "\u001b[K     |████████████████████████████████| 35.4 MB 5.0 MB/s eta 0:00:01    |▍                               | 460 kB 1.3 MB/s eta 0:00:28\n",
      "\u001b[?25hInstalling collected packages: pydicom\n",
      "Successfully installed pydicom-2.0.0\n"
     ]
    }
   ],
   "source": [
    "!pip install pydicom"
   ]
  },
  {
   "cell_type": "code",
   "execution_count": 3,
   "metadata": {},
   "outputs": [
    {
     "name": "stdout",
     "output_type": "stream",
     "text": [
      "/workspace\n"
     ]
    }
   ],
   "source": [
    "%cd /workspace"
   ]
  },
  {
   "cell_type": "code",
   "execution_count": null,
   "metadata": {},
   "outputs": [],
   "source": [
    "!apt-get update\n",
    "!apt-get install -y git"
   ]
  },
  {
   "cell_type": "code",
   "execution_count": 4,
   "metadata": {},
   "outputs": [
    {
     "name": "stdout",
     "output_type": "stream",
     "text": [
      "Cloning into 'LungCancerDetector'...\n",
      "remote: Enumerating objects: 226, done.\u001b[K\n",
      "remote: Counting objects: 100% (226/226), done.\u001b[K\n",
      "remote: Compressing objects: 100% (197/197), done.\u001b[K\n",
      "remote: Total 3978 (delta 30), reused 181 (delta 24), pack-reused 3752\u001b[K\n",
      "Receiving objects: 100% (3978/3978), 55.62 MiB | 4.01 MiB/s, done.\n",
      "Resolving deltas: 100% (853/853), done.\n"
     ]
    }
   ],
   "source": [
    "!git clone https://github.com/cbd-nslc/LungCancerDetector.git"
   ]
  },
  {
   "cell_type": "code",
   "execution_count": 6,
   "metadata": {
    "collapsed": true,
    "jupyter": {
     "outputs_hidden": true
    }
   },
   "outputs": [
    {
     "name": "stdout",
     "output_type": "stream",
     "text": [
      "Requirement already satisfied: torch in /opt/conda/lib/python3.7/site-packages (from -r ./LungCancerDetector/requirements/requirements_backend.txt (line 1)) (1.5.0)\n",
      "Collecting pandas\n",
      "  Downloading pandas-1.0.4-cp37-cp37m-manylinux1_x86_64.whl (10.1 MB)\n",
      "\u001b[K     |████████████████████████████████| 10.1 MB 2.0 MB/s eta 0:00:01\n",
      "\u001b[?25hRequirement already satisfied: numpy in /opt/conda/lib/python3.7/site-packages (from -r ./LungCancerDetector/requirements/requirements_backend.txt (line 3)) (1.18.1)\n",
      "Collecting scipy\n",
      "  Downloading scipy-1.4.1-cp37-cp37m-manylinux1_x86_64.whl (26.1 MB)\n",
      "\u001b[K     |████████████████████████████████| 26.1 MB 2.3 MB/s eta 0:00:01\n",
      "\u001b[?25hCollecting scikit-image\n",
      "  Downloading scikit_image-0.17.2-cp37-cp37m-manylinux1_x86_64.whl (12.5 MB)\n",
      "\u001b[K     |████████████████████████████████| 12.5 MB 1.8 MB/s eta 0:00:01\n",
      "\u001b[?25hCollecting matplotlib\n",
      "  Downloading matplotlib-3.2.1-cp37-cp37m-manylinux1_x86_64.whl (12.4 MB)\n",
      "\u001b[K     |████████████████████████████████| 12.4 MB 1.2 MB/s eta 0:00:01\n",
      "\u001b[?25hRequirement already satisfied: jupyter in /opt/conda/lib/python3.7/site-packages (from -r ./LungCancerDetector/requirements/requirements_backend.txt (line 7)) (1.0.0)\n",
      "Collecting h5py\n",
      "  Downloading h5py-2.10.0-cp37-cp37m-manylinux1_x86_64.whl (2.9 MB)\n",
      "\u001b[K     |████████████████████████████████| 2.9 MB 1.8 MB/s eta 0:00:01\n",
      "\u001b[?25hCollecting SimpleITK\n",
      "  Downloading SimpleITK-1.2.4-cp37-cp37m-manylinux1_x86_64.whl (42.5 MB)\n",
      "\u001b[K     |████████████████████████████████| 42.5 MB 890 kB/s eta 0:00:01\n",
      "\u001b[?25hCollecting future\n",
      "  Downloading future-0.18.2.tar.gz (829 kB)\n",
      "\u001b[K     |████████████████████████████████| 829 kB 1.5 MB/s eta 0:00:01\n",
      "\u001b[?25hRequirement already satisfied: pytz>=2017.2 in /opt/conda/lib/python3.7/site-packages (from pandas->-r ./LungCancerDetector/requirements/requirements_backend.txt (line 2)) (2019.3)\n",
      "Requirement already satisfied: python-dateutil>=2.6.1 in /opt/conda/lib/python3.7/site-packages (from pandas->-r ./LungCancerDetector/requirements/requirements_backend.txt (line 2)) (2.8.1)\n",
      "Collecting networkx>=2.0\n",
      "  Downloading networkx-2.4-py3-none-any.whl (1.6 MB)\n",
      "\u001b[K     |████████████████████████████████| 1.6 MB 1.8 MB/s eta 0:00:01\n",
      "\u001b[?25hCollecting tifffile>=2019.7.26\n",
      "  Downloading tifffile-2020.6.3-py3-none-any.whl (133 kB)\n",
      "\u001b[K     |████████████████████████████████| 133 kB 1.2 MB/s eta 0:00:01\n",
      "\u001b[?25hCollecting PyWavelets>=1.1.1\n",
      "  Downloading PyWavelets-1.1.1-cp37-cp37m-manylinux1_x86_64.whl (4.4 MB)\n",
      "\u001b[K     |████████████████████████████████| 4.4 MB 2.5 MB/s eta 0:00:01\n",
      "\u001b[?25hRequirement already satisfied: pillow!=7.1.0,!=7.1.1,>=4.3.0 in /opt/conda/lib/python3.7/site-packages (from scikit-image->-r ./LungCancerDetector/requirements/requirements_backend.txt (line 5)) (7.0.0)\n",
      "Collecting imageio>=2.3.0\n",
      "  Downloading imageio-2.8.0-py3-none-any.whl (3.3 MB)\n",
      "\u001b[K     |████████████████████████████████| 3.3 MB 1.4 MB/s eta 0:00:01\n",
      "\u001b[?25hCollecting kiwisolver>=1.0.1\n",
      "  Downloading kiwisolver-1.2.0-cp37-cp37m-manylinux1_x86_64.whl (88 kB)\n",
      "\u001b[K     |████████████████████████████████| 88 kB 1.3 MB/s eta 0:00:011\n",
      "\u001b[?25hRequirement already satisfied: pyparsing!=2.0.4,!=2.1.2,!=2.1.6,>=2.0.1 in /opt/conda/lib/python3.7/site-packages (from matplotlib->-r ./LungCancerDetector/requirements/requirements_backend.txt (line 6)) (2.4.7)\n",
      "Collecting cycler>=0.10\n",
      "  Downloading cycler-0.10.0-py2.py3-none-any.whl (6.5 kB)\n",
      "Requirement already satisfied: ipykernel in /opt/conda/lib/python3.7/site-packages (from jupyter->-r ./LungCancerDetector/requirements/requirements_backend.txt (line 7)) (5.3.0)\n",
      "Requirement already satisfied: ipywidgets in /opt/conda/lib/python3.7/site-packages (from jupyter->-r ./LungCancerDetector/requirements/requirements_backend.txt (line 7)) (7.5.1)\n",
      "Requirement already satisfied: notebook in /opt/conda/lib/python3.7/site-packages (from jupyter->-r ./LungCancerDetector/requirements/requirements_backend.txt (line 7)) (5.7.5)\n",
      "Requirement already satisfied: nbconvert in /opt/conda/lib/python3.7/site-packages (from jupyter->-r ./LungCancerDetector/requirements/requirements_backend.txt (line 7)) (5.6.1)\n",
      "Requirement already satisfied: jupyter-console in /opt/conda/lib/python3.7/site-packages (from jupyter->-r ./LungCancerDetector/requirements/requirements_backend.txt (line 7)) (6.1.0)\n",
      "Requirement already satisfied: qtconsole in /opt/conda/lib/python3.7/site-packages (from jupyter->-r ./LungCancerDetector/requirements/requirements_backend.txt (line 7)) (4.7.4)\n",
      "Requirement already satisfied: six in /opt/conda/lib/python3.7/site-packages (from h5py->-r ./LungCancerDetector/requirements/requirements_backend.txt (line 8)) (1.14.0)\n",
      "Requirement already satisfied: decorator>=4.3.0 in /opt/conda/lib/python3.7/site-packages (from networkx>=2.0->scikit-image->-r ./LungCancerDetector/requirements/requirements_backend.txt (line 5)) (4.4.2)\n",
      "Requirement already satisfied: ipython>=5.0.0 in /opt/conda/lib/python3.7/site-packages (from ipykernel->jupyter->-r ./LungCancerDetector/requirements/requirements_backend.txt (line 7)) (7.14.0)\n",
      "Requirement already satisfied: traitlets>=4.1.0 in /opt/conda/lib/python3.7/site-packages (from ipykernel->jupyter->-r ./LungCancerDetector/requirements/requirements_backend.txt (line 7)) (4.3.3)\n",
      "Requirement already satisfied: jupyter-client in /opt/conda/lib/python3.7/site-packages (from ipykernel->jupyter->-r ./LungCancerDetector/requirements/requirements_backend.txt (line 7)) (6.1.3)\n",
      "Requirement already satisfied: tornado>=4.2 in /opt/conda/lib/python3.7/site-packages (from ipykernel->jupyter->-r ./LungCancerDetector/requirements/requirements_backend.txt (line 7)) (5.1.1)\n",
      "Requirement already satisfied: widgetsnbextension~=3.5.0 in /opt/conda/lib/python3.7/site-packages (from ipywidgets->jupyter->-r ./LungCancerDetector/requirements/requirements_backend.txt (line 7)) (3.5.1)\n",
      "Requirement already satisfied: nbformat>=4.2.0 in /opt/conda/lib/python3.7/site-packages (from ipywidgets->jupyter->-r ./LungCancerDetector/requirements/requirements_backend.txt (line 7)) (5.0.6)\n",
      "Requirement already satisfied: ipython-genutils in /opt/conda/lib/python3.7/site-packages (from notebook->jupyter->-r ./LungCancerDetector/requirements/requirements_backend.txt (line 7)) (0.2.0)\n",
      "Requirement already satisfied: jinja2 in /opt/conda/lib/python3.7/site-packages (from notebook->jupyter->-r ./LungCancerDetector/requirements/requirements_backend.txt (line 7)) (2.11.1)\n",
      "Requirement already satisfied: terminado>=0.8.1 in /opt/conda/lib/python3.7/site-packages (from notebook->jupyter->-r ./LungCancerDetector/requirements/requirements_backend.txt (line 7)) (0.8.3)\n",
      "Requirement already satisfied: pyzmq>=17 in /opt/conda/lib/python3.7/site-packages (from notebook->jupyter->-r ./LungCancerDetector/requirements/requirements_backend.txt (line 7)) (19.0.1)\n",
      "Requirement already satisfied: Send2Trash in /opt/conda/lib/python3.7/site-packages (from notebook->jupyter->-r ./LungCancerDetector/requirements/requirements_backend.txt (line 7)) (1.5.0)\n",
      "Requirement already satisfied: jupyter-core>=4.4.0 in /opt/conda/lib/python3.7/site-packages (from notebook->jupyter->-r ./LungCancerDetector/requirements/requirements_backend.txt (line 7)) (4.6.3)\n",
      "Requirement already satisfied: prometheus-client in /opt/conda/lib/python3.7/site-packages (from notebook->jupyter->-r ./LungCancerDetector/requirements/requirements_backend.txt (line 7)) (0.8.0)\n",
      "Requirement already satisfied: testpath in /opt/conda/lib/python3.7/site-packages (from nbconvert->jupyter->-r ./LungCancerDetector/requirements/requirements_backend.txt (line 7)) (0.4.4)\n",
      "Requirement already satisfied: entrypoints>=0.2.2 in /opt/conda/lib/python3.7/site-packages (from nbconvert->jupyter->-r ./LungCancerDetector/requirements/requirements_backend.txt (line 7)) (0.3)\n",
      "Requirement already satisfied: mistune<2,>=0.8.1 in /opt/conda/lib/python3.7/site-packages (from nbconvert->jupyter->-r ./LungCancerDetector/requirements/requirements_backend.txt (line 7)) (0.8.4)\n",
      "Requirement already satisfied: pygments in /opt/conda/lib/python3.7/site-packages (from nbconvert->jupyter->-r ./LungCancerDetector/requirements/requirements_backend.txt (line 7)) (2.6.1)\n",
      "Requirement already satisfied: defusedxml in /opt/conda/lib/python3.7/site-packages (from nbconvert->jupyter->-r ./LungCancerDetector/requirements/requirements_backend.txt (line 7)) (0.6.0)\n",
      "Requirement already satisfied: pandocfilters>=1.4.1 in /opt/conda/lib/python3.7/site-packages (from nbconvert->jupyter->-r ./LungCancerDetector/requirements/requirements_backend.txt (line 7)) (1.4.2)\n",
      "Requirement already satisfied: bleach in /opt/conda/lib/python3.7/site-packages (from nbconvert->jupyter->-r ./LungCancerDetector/requirements/requirements_backend.txt (line 7)) (3.1.5)\n",
      "Requirement already satisfied: prompt-toolkit!=3.0.0,!=3.0.1,<3.1.0,>=2.0.0 in /opt/conda/lib/python3.7/site-packages (from jupyter-console->jupyter->-r ./LungCancerDetector/requirements/requirements_backend.txt (line 7)) (3.0.4)\n",
      "Requirement already satisfied: qtpy in /opt/conda/lib/python3.7/site-packages (from qtconsole->jupyter->-r ./LungCancerDetector/requirements/requirements_backend.txt (line 7)) (1.9.0)\n",
      "Requirement already satisfied: pexpect; sys_platform != \"win32\" in /opt/conda/lib/python3.7/site-packages (from ipython>=5.0.0->ipykernel->jupyter->-r ./LungCancerDetector/requirements/requirements_backend.txt (line 7)) (4.8.0)\n",
      "Requirement already satisfied: jedi>=0.10 in /opt/conda/lib/python3.7/site-packages (from ipython>=5.0.0->ipykernel->jupyter->-r ./LungCancerDetector/requirements/requirements_backend.txt (line 7)) (0.16.0)\n",
      "Requirement already satisfied: setuptools>=18.5 in /opt/conda/lib/python3.7/site-packages (from ipython>=5.0.0->ipykernel->jupyter->-r ./LungCancerDetector/requirements/requirements_backend.txt (line 7)) (45.2.0.post20200210)\n",
      "Requirement already satisfied: backcall in /opt/conda/lib/python3.7/site-packages (from ipython>=5.0.0->ipykernel->jupyter->-r ./LungCancerDetector/requirements/requirements_backend.txt (line 7)) (0.1.0)\n",
      "Requirement already satisfied: pickleshare in /opt/conda/lib/python3.7/site-packages (from ipython>=5.0.0->ipykernel->jupyter->-r ./LungCancerDetector/requirements/requirements_backend.txt (line 7)) (0.7.5)\n",
      "Requirement already satisfied: jsonschema!=2.5.0,>=2.4 in /opt/conda/lib/python3.7/site-packages (from nbformat>=4.2.0->ipywidgets->jupyter->-r ./LungCancerDetector/requirements/requirements_backend.txt (line 7)) (3.2.0)\n",
      "Requirement already satisfied: MarkupSafe>=0.23 in /opt/conda/lib/python3.7/site-packages (from jinja2->notebook->jupyter->-r ./LungCancerDetector/requirements/requirements_backend.txt (line 7)) (1.1.1)\n",
      "Requirement already satisfied: ptyprocess; os_name != \"nt\" in /opt/conda/lib/python3.7/site-packages (from terminado>=0.8.1->notebook->jupyter->-r ./LungCancerDetector/requirements/requirements_backend.txt (line 7)) (0.6.0)\n",
      "Requirement already satisfied: webencodings in /opt/conda/lib/python3.7/site-packages (from bleach->nbconvert->jupyter->-r ./LungCancerDetector/requirements/requirements_backend.txt (line 7)) (0.5.1)\n",
      "Requirement already satisfied: packaging in /opt/conda/lib/python3.7/site-packages (from bleach->nbconvert->jupyter->-r ./LungCancerDetector/requirements/requirements_backend.txt (line 7)) (20.4)\n",
      "Requirement already satisfied: wcwidth in /opt/conda/lib/python3.7/site-packages (from prompt-toolkit!=3.0.0,!=3.0.1,<3.1.0,>=2.0.0->jupyter-console->jupyter->-r ./LungCancerDetector/requirements/requirements_backend.txt (line 7)) (0.1.9)\n",
      "Requirement already satisfied: parso>=0.5.2 in /opt/conda/lib/python3.7/site-packages (from jedi>=0.10->ipython>=5.0.0->ipykernel->jupyter->-r ./LungCancerDetector/requirements/requirements_backend.txt (line 7)) (0.6.2)\n",
      "Requirement already satisfied: attrs>=17.4.0 in /opt/conda/lib/python3.7/site-packages (from jsonschema!=2.5.0,>=2.4->nbformat>=4.2.0->ipywidgets->jupyter->-r ./LungCancerDetector/requirements/requirements_backend.txt (line 7)) (19.3.0)\n",
      "Requirement already satisfied: pyrsistent>=0.14.0 in /opt/conda/lib/python3.7/site-packages (from jsonschema!=2.5.0,>=2.4->nbformat>=4.2.0->ipywidgets->jupyter->-r ./LungCancerDetector/requirements/requirements_backend.txt (line 7)) (0.16.0)\n",
      "Requirement already satisfied: importlib-metadata; python_version < \"3.8\" in /opt/conda/lib/python3.7/site-packages (from jsonschema!=2.5.0,>=2.4->nbformat>=4.2.0->ipywidgets->jupyter->-r ./LungCancerDetector/requirements/requirements_backend.txt (line 7)) (1.6.0)\n",
      "Requirement already satisfied: zipp>=0.5 in /opt/conda/lib/python3.7/site-packages (from importlib-metadata; python_version < \"3.8\"->jsonschema!=2.5.0,>=2.4->nbformat>=4.2.0->ipywidgets->jupyter->-r ./LungCancerDetector/requirements/requirements_backend.txt (line 7)) (3.1.0)\n",
      "Building wheels for collected packages: future\n",
      "  Building wheel for future (setup.py) ... \u001b[?25ldone\n",
      "\u001b[?25h  Created wheel for future: filename=future-0.18.2-py3-none-any.whl size=491058 sha256=b9122e1f19b6cf6aa12f0d4b98197933a2668826f5dd4797e75a5a88030c897c\n",
      "  Stored in directory: /root/.cache/pip/wheels/56/b0/fe/4410d17b32f1f0c3cf54cdfb2bc04d7b4b8f4ae377e2229ba0\n",
      "Successfully built future\n",
      "Installing collected packages: pandas, scipy, networkx, tifffile, PyWavelets, imageio, kiwisolver, cycler, matplotlib, scikit-image, h5py, SimpleITK, future\n",
      "Successfully installed PyWavelets-1.1.1 SimpleITK-1.2.4 cycler-0.10.0 future-0.18.2 h5py-2.10.0 imageio-2.8.0 kiwisolver-1.2.0 matplotlib-3.2.1 networkx-2.4 pandas-1.0.4 scikit-image-0.17.2 scipy-1.4.1 tifffile-2020.6.3\n"
     ]
    }
   ],
   "source": [
    "!pip install -r ./LungCancerDetector/requirements/requirements_backend.txt"
   ]
  },
  {
   "cell_type": "code",
   "execution_count": 1,
   "metadata": {
    "collapsed": true,
    "jupyter": {
     "outputs_hidden": true
    }
   },
   "outputs": [
    {
     "name": "stdout",
     "output_type": "stream",
     "text": [
      "Reading package lists... Done\n",
      "Building dependency tree       \n",
      "Reading state information... Done\n",
      "The following additional packages will be installed:\n",
      "  p7zip\n",
      "Suggested packages:\n",
      "  p7zip-rar\n",
      "The following NEW packages will be installed:\n",
      "  p7zip p7zip-full\n",
      "0 upgraded, 2 newly installed, 0 to remove and 22 not upgraded.\n",
      "Need to get 1522 kB of archives.\n",
      "After this operation, 5755 kB of additional disk space will be used.\n",
      "Get:1 http://archive.ubuntu.com/ubuntu bionic/universe amd64 p7zip amd64 16.02+dfsg-6 [358 kB]\n",
      "Get:2 http://archive.ubuntu.com/ubuntu bionic/universe amd64 p7zip-full amd64 16.02+dfsg-6 [1164 kB]\n",
      "Fetched 1522 kB in 1s (2153 kB/s)    \n",
      "debconf: delaying package configuration, since apt-utils is not installed\n",
      "Selecting previously unselected package p7zip.\n",
      "(Reading database ... 9776 files and directories currently installed.)\n",
      "Preparing to unpack .../p7zip_16.02+dfsg-6_amd64.deb ...\n",
      "Unpacking p7zip (16.02+dfsg-6) ...\n",
      "Selecting previously unselected package p7zip-full.\n",
      "Preparing to unpack .../p7zip-full_16.02+dfsg-6_amd64.deb ...\n",
      "Unpacking p7zip-full (16.02+dfsg-6) ...\n",
      "Setting up p7zip (16.02+dfsg-6) ...\n",
      "Setting up p7zip-full (16.02+dfsg-6) ...\n"
     ]
    }
   ],
   "source": [
    "!apt-get install -y p7zip-full"
   ]
  },
  {
   "cell_type": "markdown",
   "metadata": {},
   "source": [
    "## TESTING"
   ]
  },
  {
   "cell_type": "code",
   "execution_count": 4,
   "metadata": {},
   "outputs": [],
   "source": [
    "import requests\n",
    "\n",
    "def download_file_from_google_drive(id, destination):\n",
    "    URL = \"https://docs.google.com/uc?export=download\"\n",
    "\n",
    "    session = requests.Session()\n",
    "\n",
    "    response = session.get(URL, params = { 'id' : id }, stream = True)\n",
    "    token = get_confirm_token(response)\n",
    "\n",
    "    if token:\n",
    "        params = { 'id' : id, 'confirm' : token }\n",
    "        response = session.get(URL, params = params, stream = True)\n",
    "\n",
    "    save_response_content(response, destination)    \n",
    "\n",
    "def get_confirm_token(response):\n",
    "    for key, value in response.cookies.items():\n",
    "        if key.startswith('download_warning'):\n",
    "            return value\n",
    "\n",
    "    return None\n",
    "\n",
    "def save_response_content(response, destination):\n",
    "    CHUNK_SIZE = 32768\n",
    "\n",
    "    with open(destination, \"wb\") as f:\n",
    "        for chunk in response.iter_content(CHUNK_SIZE):\n",
    "            if chunk: # filter out keep-alive new chunks\n",
    "                f.write(chunk)\n",
    "\n",
    "if __name__ == \"__main__\":\n",
    "    file_id = '1ThG3k444nUziTgsqPEvXBnF8f-OyGV48'\n",
    "    destination = '/workspace/test.7z'\n",
    "    download_file_from_google_drive(file_id, destination)"
   ]
  },
  {
   "cell_type": "code",
   "execution_count": 5,
   "metadata": {
    "collapsed": true,
    "jupyter": {
     "outputs_hidden": true
    }
   },
   "outputs": [
    {
     "name": "stdout",
     "output_type": "stream",
     "text": [
      "\n",
      "7-Zip [64] 16.02 : Copyright (c) 1999-2016 Igor Pavlov : 2016-05-21\n",
      "p7zip Version 16.02 (locale=C.UTF-8,Utf16=on,HugeFiles=on,64 bits,96 CPUs Genuine Intel(R) CPU 0000%@ (50654),ASM,AES-NI)\n",
      "\n",
      "Scanning the drive for archives:\n",
      "  0M Scan           1 file, 55127392 bytes (53 MiB)\n",
      "\n",
      "Extracting archive: ./test.7z\n",
      "\n",
      "WARNINGS:\n",
      "There are data after the end of archive\n",
      "\n",
      "--\n",
      "Path = ./test.7z\n",
      "Type = 7z\n",
      "WARNINGS:\n",
      "There are data after the end of archive\n",
      "Physical Size = 54078816\n",
      "Tail Size = 1048576\n",
      "Headers Size = 7116\n",
      "Method = LZMA:23\n",
      "Solid = +\n",
      "Blocks = 1\n",
      "\n",
      "      6% 7 - test/0a0c32c9e08cc2ea76a71649de5 . 5d4356994089451c46f3e918e491e.dc                                                                             12% 23 - test/0a0c32c9e08cc2ea76a71649de5 . 741b176e4cfc3f1cead57739ec74e.d                                                                             18% 40 - test/0a0c32c9e08cc2ea76a71649de5 . e4922a6db36a027f23d541ce571aa.d                                                                             24% 56 - test/0a0c32c9e08cc2ea76a71649de5 . f1e11be475a23b797c5229f3897e7.d                                                                             32% 71 - test/0a0c32c9e08cc2ea76a71649de5 . 0eaf15c8953ce3bdb7fc87c1b88ae.d                                                                             38% 88 - test/0a0c32c9e08cc2ea76a71649de5 . 8299a1ac1d16b700aa9b69e28b874.d                                                                             45% 104 - test/0a0c32c9e08cc2ea76a71649de5 . 866d1d57679b8b9f15d1833d54b2f.dc                                                                               51% 120 - test/0a0c32c9e08cc2ea76a71649de5 . 785e65e114d67b47df428f566362f.dc                                                                               59% 135 - test/0a38e7597ca26f9374f8ea2770b . 97d557b0570b4dd295d6f987ddc8a.dc                                                                               64% 152 - test/0a38e7597ca26f9374f8ea2770b . 7d59df3c669b352f5d5e8ccb25b61.dc                                                                               71% 167 - test/0a38e7597ca26f9374f8ea2770b . 25ffa8ae3f5c5e36d55fd170c45f2.dc                                                                               77% 184 - test/0a38e7597ca26f9374f8ea2770b . 66e9cfa2543ccfc98053c6757e35b.dc                                                                               84% 200 - test/0a38e7597ca26f9374f8ea2770b . fb4b284cc112c2a5c33263e839f2e.dc                                                                               91% 215 - test/0a38e7597ca26f9374f8ea2770b . 952f37582bb0bc7ca66bd89b73bb6.dc                                                                               97% 232 - test/0a38e7597ca26f9374f8ea2770b . 6064ab1959fd335264e959e575218.dc                                                                              Everything is Ok\n",
      "\n",
      "Archives with Warnings: 1\n",
      "\n",
      "Warnings: 1\n",
      "Folders: 3\n",
      "Files: 243\n",
      "Size:       127679782\n",
      "Compressed: 55127392\n"
     ]
    }
   ],
   "source": [
    "!7z x \"./test.7z\""
   ]
  },
  {
   "cell_type": "code",
   "execution_count": 6,
   "metadata": {},
   "outputs": [],
   "source": [
    "import sys, os, shutil\n",
    "sys.path.append('/workspace/LungCancerDetector/DSB2017')\n",
    "sys.path.append('/workspace/LungCancerDetector')\n"
   ]
  },
  {
   "cell_type": "code",
   "execution_count": 7,
   "metadata": {},
   "outputs": [],
   "source": [
    "from DSB2017.config import config_submit\n",
    "from DSB2017.data_classifier import DataBowl3Classifier\n",
    "from DSB2017.data_detector import DataBowl3Detector, collate\n",
    "from DSB2017.preprocessing.prep_testing import preprocess_mhd\n",
    "from DSB2017.split_combine import SplitComb\n",
    "from DSB2017.test_detect import test_detect\n",
    "from DSB2017.utils import *\n"
   ]
  },
  {
   "cell_type": "code",
   "execution_count": 8,
   "metadata": {},
   "outputs": [
    {
     "name": "stdout",
     "output_type": "stream",
     "text": [
      "starting preprocessing\n",
      "0a38e7597ca26f9374f8ea2770ba870d done\n",
      "0a0c32c9e08cc2ea76a71649de56be6d done\n",
      "end preprocessing\n",
      "torch.Size([18, 1, 208, 208, 208])\n",
      "[0, '0a0c32c9e08cc2ea76a71649de56be6d']\n",
      "torch.Size([12, 1, 208, 208, 208])\n",
      "[1, '0a38e7597ca26f9374f8ea2770ba870d']\n",
      "elapsed time is 14.11 seconds\n",
      "Predictions: [0.09896326 0.72764033]\n",
      "Output log wrote to file: /workspace/test/prediction.csv\n"
     ]
    }
   ],
   "source": [
    "from DSB2017.main import inference\n",
    "\n",
    "base_dir = '/workspace/test'\n",
    "inference(base_dir)"
   ]
  },
  {
   "cell_type": "code",
   "execution_count": 9,
   "metadata": {},
   "outputs": [
    {
     "name": "stdout",
     "output_type": "stream",
     "text": [
      "Mon Jun 15 13:16:09 2020       \n",
      "+-----------------------------------------------------------------------------+\n",
      "| NVIDIA-SMI 440.64.00    Driver Version: 440.64.00    CUDA Version: 10.2     |\n",
      "|-------------------------------+----------------------+----------------------+\n",
      "| GPU  Name        Persistence-M| Bus-Id        Disp.A | Volatile Uncorr. ECC |\n",
      "| Fan  Temp  Perf  Pwr:Usage/Cap|         Memory-Usage | GPU-Util  Compute M. |\n",
      "|===============================+======================+======================|\n",
      "|   0  GeForce GTX 108...  Off  | 00000000:86:00.0 Off |                  N/A |\n",
      "| 33%   67C    P2    66W / 250W |   7011MiB / 11178MiB |      0%      Default |\n",
      "+-------------------------------+----------------------+----------------------+\n",
      "                                                                               \n",
      "+-----------------------------------------------------------------------------+\n",
      "| Processes:                                                       GPU Memory |\n",
      "|  GPU       PID   Type   Process name                             Usage      |\n",
      "|=============================================================================|\n",
      "+-----------------------------------------------------------------------------+\n"
     ]
    }
   ],
   "source": [
    "!nvidia-smi"
   ]
  },
  {
   "cell_type": "code",
   "execution_count": null,
   "metadata": {},
   "outputs": [],
   "source": []
  }
 ],
 "metadata": {
  "kernelspec": {
   "display_name": "Python 3",
   "language": "python",
   "name": "python3"
  },
  "language_info": {
   "codemirror_mode": {
    "name": "ipython",
    "version": 3
   },
   "file_extension": ".py",
   "mimetype": "text/x-python",
   "name": "python",
   "nbconvert_exporter": "python",
   "pygments_lexer": "ipython3",
   "version": "3.7.7"
  }
 },
 "nbformat": 4,
 "nbformat_minor": 4
}
